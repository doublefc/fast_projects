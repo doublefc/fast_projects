{
 "cells": [
  {
   "cell_type": "markdown",
   "id": "131d6fe1",
   "metadata": {},
   "source": [
    "## Импортируем библиотеки"
   ]
  },
  {
   "cell_type": "code",
   "execution_count": null,
   "id": "aa684cc8",
   "metadata": {},
   "outputs": [],
   "source": [
    "import torch\n",
    "from pathlib import Path\n",
    "import os\n",
    "from sklearn.preprocessing import LabelEncoder\n",
    "from PIL import Image\n",
    "import numpy as np\n",
    "from torchvision import transforms\n",
    "from sklearn.model_selection import train_test_split\n",
    "from torch.utils.data import Dataset, DataLoader\n",
    "import torch.nn as nn\n",
    "from torch import optim\n",
    "from torch.optim import lr_scheduler\n",
    "import time\n",
    "from tqdm.autonotebook import tqdm, trange\n",
    "from torchvision import models\n",
    "import gc\n",
    "import pandas as pd"
   ]
  },
  {
   "cell_type": "markdown",
   "id": "d9639888",
   "metadata": {},
   "source": [
    "Проверяем доступ к видеокарте, чтобы на ней обучать модель"
   ]
  },
  {
   "cell_type": "code",
   "execution_count": 25,
   "id": "0531159e",
   "metadata": {},
   "outputs": [],
   "source": [
    "use_gpu=torch.cuda.is_available()"
   ]
  },
  {
   "cell_type": "markdown",
   "id": "c692ff85",
   "metadata": {},
   "source": [
    "Чистим память на видеокарте"
   ]
  },
  {
   "cell_type": "code",
   "execution_count": 54,
   "id": "ffb65f4d",
   "metadata": {},
   "outputs": [
    {
     "data": {
      "text/plain": [
       "0"
      ]
     },
     "execution_count": 54,
     "metadata": {},
     "output_type": "execute_result"
    }
   ],
   "source": [
    "torch.cuda.empty_cache()\n",
    "gc.collect()"
   ]
  },
  {
   "cell_type": "markdown",
   "id": "79b693c3",
   "metadata": {},
   "source": [
    "## Предобработка данных"
   ]
  },
  {
   "cell_type": "markdown",
   "id": "f36a45af",
   "metadata": {},
   "source": [
    "Создаем функцию, которая открывает картинку из файла и преобразует ее в нормализованный, определенного размера, тензор"
   ]
  },
  {
   "cell_type": "code",
   "execution_count": 53,
   "id": "849ba47c",
   "metadata": {},
   "outputs": [],
   "source": [
    "def open_img(path): \n",
    "    transform = transforms.Compose([\n",
    "            transforms.ToTensor(),\n",
    "            transforms.Normalize([0.485, 0.456, 0.406], [0.229, 0.224, 0.225]) \n",
    "        ])\n",
    "    image = Image.open(path)\n",
    "    image.load()\n",
    "    image = image.resize((244, 244))\n",
    "    x = np.array(image)\n",
    "    x = np.array(x / 255, dtype='float32')\n",
    "    x = transform(x)\n",
    "    return x"
   ]
  },
  {
   "cell_type": "markdown",
   "id": "18680d17",
   "metadata": {},
   "source": [
    "В нашей файловой системе картинки расположены отдельно в разных папках, название каждой папки - имя героя Симпсонов.\n",
    "Определим все имена, то есть все метки классов для нашей задачи классификации."
   ]
  },
  {
   "cell_type": "code",
   "execution_count": 28,
   "id": "f5acd096",
   "metadata": {},
   "outputs": [],
   "source": [
    "classes = list(map(lambda x: x.name, Path(r\"C:\\Users\\Stepan\\Desktop\\симпсоны\\train\").glob(\"*\")))\n",
    "classes=sorted(classes)\n",
    "names={classes[i]:i for i in range(42)}\n"
   ]
  },
  {
   "cell_type": "markdown",
   "id": "e0f3dac2",
   "metadata": {},
   "source": [
    "Теперь откроем сами картинки, сопоставляя каждой, номер класса."
   ]
  },
  {
   "cell_type": "code",
   "execution_count": 29,
   "id": "7949c367",
   "metadata": {},
   "outputs": [],
   "source": [
    "list_img=[]\n",
    "for i in classes:\n",
    "    jpgs=list(map(lambda x: x.name,Path(fr\"C:\\Users\\Stepan\\Desktop\\симпсоны\\train\\{i}\").glob(\"*\")))\n",
    "    for j in jpgs:\n",
    "        list_img.append([open_img(fr\"C:\\Users\\Stepan\\Desktop\\симпсоны\\train\\{i}\\{j}\"), names[i]])"
   ]
  },
  {
   "cell_type": "markdown",
   "id": "be22983f",
   "metadata": {},
   "source": [
    "Разделим нашу выборку на train/val. И создадим dataloaders, для удобного побатчевому обращению к выборкам."
   ]
  },
  {
   "cell_type": "code",
   "execution_count": 30,
   "id": "98c5e2a7",
   "metadata": {},
   "outputs": [],
   "source": [
    "train_set, val_set=train_test_split(list_img, test_size=0.2)\n",
    "train_loader=DataLoader(train_set, batch_size=4, shuffle=True)\n",
    "val_loader=DataLoader(val_set, batch_size=4, shuffle=True)\n",
    "dataloaders={\"train\":train_loader, \"val\":val_loader}"
   ]
  },
  {
   "cell_type": "markdown",
   "id": "ec7b38bc",
   "metadata": {},
   "source": [
    "## Построение модели"
   ]
  },
  {
   "cell_type": "markdown",
   "id": "a5c364b2",
   "metadata": {},
   "source": [
    "Будем использовать Transfer Learning. То есть будем дообучать уже обученную модель. Я буду использовать vgg16."
   ]
  },
  {
   "cell_type": "code",
   "execution_count": 31,
   "id": "8cf8a88c",
   "metadata": {},
   "outputs": [
    {
     "data": {
      "text/plain": [
       "VGG(\n",
       "  (features): Sequential(\n",
       "    (0): Conv2d(3, 64, kernel_size=(3, 3), stride=(1, 1), padding=(1, 1))\n",
       "    (1): ReLU(inplace=True)\n",
       "    (2): Conv2d(64, 64, kernel_size=(3, 3), stride=(1, 1), padding=(1, 1))\n",
       "    (3): ReLU(inplace=True)\n",
       "    (4): MaxPool2d(kernel_size=2, stride=2, padding=0, dilation=1, ceil_mode=False)\n",
       "    (5): Conv2d(64, 128, kernel_size=(3, 3), stride=(1, 1), padding=(1, 1))\n",
       "    (6): ReLU(inplace=True)\n",
       "    (7): Conv2d(128, 128, kernel_size=(3, 3), stride=(1, 1), padding=(1, 1))\n",
       "    (8): ReLU(inplace=True)\n",
       "    (9): MaxPool2d(kernel_size=2, stride=2, padding=0, dilation=1, ceil_mode=False)\n",
       "    (10): Conv2d(128, 256, kernel_size=(3, 3), stride=(1, 1), padding=(1, 1))\n",
       "    (11): ReLU(inplace=True)\n",
       "    (12): Conv2d(256, 256, kernel_size=(3, 3), stride=(1, 1), padding=(1, 1))\n",
       "    (13): ReLU(inplace=True)\n",
       "    (14): Conv2d(256, 256, kernel_size=(3, 3), stride=(1, 1), padding=(1, 1))\n",
       "    (15): ReLU(inplace=True)\n",
       "    (16): MaxPool2d(kernel_size=2, stride=2, padding=0, dilation=1, ceil_mode=False)\n",
       "    (17): Conv2d(256, 512, kernel_size=(3, 3), stride=(1, 1), padding=(1, 1))\n",
       "    (18): ReLU(inplace=True)\n",
       "    (19): Conv2d(512, 512, kernel_size=(3, 3), stride=(1, 1), padding=(1, 1))\n",
       "    (20): ReLU(inplace=True)\n",
       "    (21): Conv2d(512, 512, kernel_size=(3, 3), stride=(1, 1), padding=(1, 1))\n",
       "    (22): ReLU(inplace=True)\n",
       "    (23): MaxPool2d(kernel_size=2, stride=2, padding=0, dilation=1, ceil_mode=False)\n",
       "    (24): Conv2d(512, 512, kernel_size=(3, 3), stride=(1, 1), padding=(1, 1))\n",
       "    (25): ReLU(inplace=True)\n",
       "    (26): Conv2d(512, 512, kernel_size=(3, 3), stride=(1, 1), padding=(1, 1))\n",
       "    (27): ReLU(inplace=True)\n",
       "    (28): Conv2d(512, 512, kernel_size=(3, 3), stride=(1, 1), padding=(1, 1))\n",
       "    (29): ReLU(inplace=True)\n",
       "    (30): MaxPool2d(kernel_size=2, stride=2, padding=0, dilation=1, ceil_mode=False)\n",
       "  )\n",
       "  (avgpool): AdaptiveAvgPool2d(output_size=(7, 7))\n",
       "  (classifier): Sequential(\n",
       "    (0): Linear(in_features=25088, out_features=4096, bias=True)\n",
       "    (1): ReLU(inplace=True)\n",
       "    (2): Dropout(p=0.5, inplace=False)\n",
       "    (3): Linear(in_features=4096, out_features=4096, bias=True)\n",
       "    (4): ReLU(inplace=True)\n",
       "    (5): Dropout(p=0.5, inplace=False)\n",
       "    (6): Linear(in_features=4096, out_features=1000, bias=True)\n",
       "  )\n",
       ")"
      ]
     },
     "execution_count": 31,
     "metadata": {},
     "output_type": "execute_result"
    }
   ],
   "source": [
    "model=models.vgg16(pretrained=True)\n",
    "model"
   ]
  },
  {
   "cell_type": "markdown",
   "id": "f629ef59",
   "metadata": {},
   "source": [
    "Определим размеры выборок. Размер dataloader' а надо умножить на 4, т.к. размер батча равен 4."
   ]
  },
  {
   "cell_type": "code",
   "execution_count": 32,
   "id": "4c03e368",
   "metadata": {},
   "outputs": [
    {
     "data": {
      "text/plain": [
       "{'train': 16748, 'val': 4188}"
      ]
     },
     "execution_count": 32,
     "metadata": {},
     "output_type": "execute_result"
    }
   ],
   "source": [
    "dataset_sizes={x: len(dataloaders[x])*4 for x in ['train','val']}\n",
    "dataset_sizes"
   ]
  },
  {
   "cell_type": "markdown",
   "id": "62b084cc",
   "metadata": {},
   "source": [
    "Функция тренировки модели"
   ]
  },
  {
   "cell_type": "code",
   "execution_count": 47,
   "id": "8ca9dffb",
   "metadata": {},
   "outputs": [],
   "source": [
    "def train_model(model, criterion, optimizer, scheduler, num_epochs=25):\n",
    "    since = time.time()\n",
    "\n",
    "    best_model_wts = model.state_dict()\n",
    "    best_acc = 0.0\n",
    "    \n",
    "    #Ваш код здесь\n",
    "    losses = {'train': [], \"val\": []}\n",
    "\n",
    "    pbar = trange(num_epochs, desc=\"Epoch:\")\n",
    "\n",
    "    for epoch in pbar:\n",
    "\n",
    "        # каждя эпоха имеет обучающую и тестовую стадии\n",
    "        for phase in ['train', 'val']:\n",
    "            if phase == 'train':\n",
    "                \n",
    "                model.train(True)  # установаить модель в режим обучения\n",
    "            else:\n",
    "                model.eval()\n",
    "\n",
    "            running_loss = 0.0\n",
    "            running_corrects = 0\n",
    "\n",
    "            # итерируемся по батчам\n",
    "            for data in tqdm(dataloaders[phase], leave=False, desc=f\"{phase} iter:\"):\n",
    "                # получаем картинки и метки\n",
    "                inputs, labels = data\n",
    "                if use_gpu:\n",
    "                    inputs = inputs.cuda()\n",
    "                    labels = labels.cuda()\n",
    "                else:\n",
    "                    inputs, labels = inputs, labels\n",
    "\n",
    "\n",
    "\n",
    "                # инициализируем градиенты параметров\n",
    "                if phase==\"train\":\n",
    "                    optimizer.zero_grad()\n",
    "\n",
    "                # forward pass\n",
    "                if phase == \"eval\":\n",
    "                    with torch.no_grad():\n",
    "                        outputs = model(inputs)\n",
    "                else:\n",
    "                    outputs = model(inputs)\n",
    "                \n",
    "                preds = torch.argmax(outputs, -1)\n",
    "                loss = criterion(outputs, labels)\n",
    "\n",
    "                # backward pass + оптимизируем только если это стадия обучения\n",
    "                if phase == 'train':\n",
    "                    loss.backward()\n",
    "                    optimizer.step()\n",
    "                    \n",
    "\n",
    "                # статистика\n",
    "                \n",
    "                running_loss += loss.item()\n",
    "                running_corrects += int(torch.sum(preds == labels.data))\n",
    "\n",
    "            epoch_loss = running_loss / dataset_sizes[phase]\n",
    "            epoch_acc = running_corrects / dataset_sizes[phase]\n",
    "            print(epoch_loss, epoch_acc)\n",
    "            # Ваш код здесь\n",
    "            losses[phase].append(epoch_loss)\n",
    "            print(running_corrects, dataset_sizes[phase], phase)\n",
    "            pbar.set_description('{} Loss: {:.4f} Acc: {:.4f}'.format(\n",
    "                                    phase, epoch_loss, epoch_acc\n",
    "                                ))\n",
    "\n",
    "            # если достиглось лучшее качество, то запомним веса модели\n",
    "            if phase == 'val' and epoch_acc > best_acc:\n",
    "                best_acc = epoch_acc\n",
    "                best_model_wts = model.state_dict()\n",
    "        scheduler.step()\n",
    "\n",
    "    time_elapsed = time.time() - since\n",
    "    print('Training complete in {:.0f}m {:.0f}s'.format(\n",
    "        time_elapsed // 60, time_elapsed % 60))\n",
    "    print('Best val Acc: {:4f}'.format(best_acc))\n",
    "\n",
    "    # загрузим лучшие веса модели\n",
    "    model.load_state_dict(best_model_wts)\n",
    "    return model, losses"
   ]
  },
  {
   "cell_type": "markdown",
   "id": "910d920b",
   "metadata": {},
   "source": [
    "Отключаем подсчет градиентов на модели, чтобы предотвратить дообучение сверточных слоев."
   ]
  },
  {
   "cell_type": "code",
   "execution_count": 48,
   "id": "90a0e42f",
   "metadata": {},
   "outputs": [],
   "source": [
    "for param in model.features:\n",
    "    param.reqiures_grad=False"
   ]
  },
  {
   "cell_type": "markdown",
   "id": "a4e78d9d",
   "metadata": {},
   "source": [
    "Настраиваем новый классификатор. Добавим Dropout, т.к. на предыдущих тестах модель показывала склонность к переобучению."
   ]
  },
  {
   "cell_type": "code",
   "execution_count": 49,
   "id": "79f579de",
   "metadata": {},
   "outputs": [],
   "source": [
    "model.classifier= nn.Sequential(\n",
    "    nn.Dropout(p=0.5),\n",
    "    nn.Linear(25088, 2048),\n",
    "    nn.ReLU(),\n",
    "    nn.Dropout(p=0.5),\n",
    "    nn.Linear(2048, 1024),\n",
    "    nn.ReLU(),\n",
    "    nn.Dropout(p=0.5),\n",
    "    nn.Linear(1024, 42))\n",
    "model=model.cuda()"
   ]
  },
  {
   "cell_type": "code",
   "execution_count": 50,
   "id": "39bfe612",
   "metadata": {},
   "outputs": [],
   "source": [
    "\n",
    "# В качестве cost function используем кросс-энтропию\n",
    "loss_fn = nn.CrossEntropyLoss()\n",
    "\n",
    "# В качестве оптимизатора - стохастический градиентный спуск\n",
    "optimizer_ft = optim.Adam(model.parameters(), lr=1e-4)\n",
    "\n",
    "# Умножает learning_rate на 0.1 каждые 7 эпох (это одна из эвристик, не было на лекциях)\n",
    "exp_lr_scheduler = lr_scheduler.StepLR(optimizer_ft, step_size=7, gamma=0.1)"
   ]
  },
  {
   "cell_type": "markdown",
   "id": "2382585b",
   "metadata": {},
   "source": [
    "Обучим модель"
   ]
  },
  {
   "cell_type": "code",
   "execution_count": 55,
   "id": "7eeb6a9f",
   "metadata": {
    "scrolled": true
   },
   "outputs": [
    {
     "data": {
      "application/vnd.jupyter.widget-view+json": {
       "model_id": "b2c4dff05a8441019b75f16ea202b492",
       "version_major": 2,
       "version_minor": 0
      },
      "text/plain": [
       "Epoch::   0%|          | 0/16 [00:00<?, ?it/s]"
      ]
     },
     "metadata": {},
     "output_type": "display_data"
    },
    {
     "data": {
      "application/vnd.jupyter.widget-view+json": {
       "model_id": "",
       "version_major": 2,
       "version_minor": 0
      },
      "text/plain": [
       "train iter::   0%|          | 0/4187 [00:00<?, ?it/s]"
      ]
     },
     "metadata": {},
     "output_type": "display_data"
    },
    {
     "name": "stdout",
     "output_type": "stream",
     "text": [
      "0.1288708177428705 0.8885240028660139\n",
      "14881 16748 train\n"
     ]
    },
    {
     "data": {
      "application/vnd.jupyter.widget-view+json": {
       "model_id": "",
       "version_major": 2,
       "version_minor": 0
      },
      "text/plain": [
       "val iter::   0%|          | 0/1047 [00:00<?, ?it/s]"
      ]
     },
     "metadata": {},
     "output_type": "display_data"
    },
    {
     "name": "stdout",
     "output_type": "stream",
     "text": [
      "0.11717244992631444 0.8999522445081184\n",
      "3769 4188 val\n"
     ]
    },
    {
     "data": {
      "application/vnd.jupyter.widget-view+json": {
       "model_id": "",
       "version_major": 2,
       "version_minor": 0
      },
      "text/plain": [
       "train iter::   0%|          | 0/4187 [00:00<?, ?it/s]"
      ]
     },
     "metadata": {},
     "output_type": "display_data"
    },
    {
     "name": "stdout",
     "output_type": "stream",
     "text": [
      "0.0815700546615915 0.9246477191306425\n",
      "15486 16748 train\n"
     ]
    },
    {
     "data": {
      "application/vnd.jupyter.widget-view+json": {
       "model_id": "",
       "version_major": 2,
       "version_minor": 0
      },
      "text/plain": [
       "val iter::   0%|          | 0/1047 [00:00<?, ?it/s]"
      ]
     },
     "metadata": {},
     "output_type": "display_data"
    },
    {
     "name": "stdout",
     "output_type": "stream",
     "text": [
      "0.1155285045619196 0.9183381088825215\n",
      "3846 4188 val\n"
     ]
    },
    {
     "data": {
      "application/vnd.jupyter.widget-view+json": {
       "model_id": "",
       "version_major": 2,
       "version_minor": 0
      },
      "text/plain": [
       "train iter::   0%|          | 0/4187 [00:00<?, ?it/s]"
      ]
     },
     "metadata": {},
     "output_type": "display_data"
    },
    {
     "name": "stdout",
     "output_type": "stream",
     "text": [
      "0.07187871265692262 0.9333054693097683\n",
      "15631 16748 train\n"
     ]
    },
    {
     "data": {
      "application/vnd.jupyter.widget-view+json": {
       "model_id": "",
       "version_major": 2,
       "version_minor": 0
      },
      "text/plain": [
       "val iter::   0%|          | 0/1047 [00:00<?, ?it/s]"
      ]
     },
     "metadata": {},
     "output_type": "display_data"
    },
    {
     "name": "stdout",
     "output_type": "stream",
     "text": [
      "0.09936233053077413 0.9216809933142311\n",
      "3860 4188 val\n"
     ]
    },
    {
     "data": {
      "application/vnd.jupyter.widget-view+json": {
       "model_id": "",
       "version_major": 2,
       "version_minor": 0
      },
      "text/plain": [
       "train iter::   0%|          | 0/4187 [00:00<?, ?it/s]"
      ]
     },
     "metadata": {},
     "output_type": "display_data"
    },
    {
     "name": "stdout",
     "output_type": "stream",
     "text": [
      "0.06497109410811047 0.940351086696919\n",
      "15749 16748 train\n"
     ]
    },
    {
     "data": {
      "application/vnd.jupyter.widget-view+json": {
       "model_id": "",
       "version_major": 2,
       "version_minor": 0
      },
      "text/plain": [
       "val iter::   0%|          | 0/1047 [00:00<?, ?it/s]"
      ]
     },
     "metadata": {},
     "output_type": "display_data"
    },
    {
     "name": "stdout",
     "output_type": "stream",
     "text": [
      "0.12433234266825882 0.9197707736389685\n",
      "3852 4188 val\n"
     ]
    },
    {
     "data": {
      "application/vnd.jupyter.widget-view+json": {
       "model_id": "",
       "version_major": 2,
       "version_minor": 0
      },
      "text/plain": [
       "train iter::   0%|          | 0/4187 [00:00<?, ?it/s]"
      ]
     },
     "metadata": {},
     "output_type": "display_data"
    },
    {
     "name": "stdout",
     "output_type": "stream",
     "text": [
      "0.05780472734356772 0.9487700023883449\n",
      "15890 16748 train\n"
     ]
    },
    {
     "data": {
      "application/vnd.jupyter.widget-view+json": {
       "model_id": "",
       "version_major": 2,
       "version_minor": 0
      },
      "text/plain": [
       "val iter::   0%|          | 0/1047 [00:00<?, ?it/s]"
      ]
     },
     "metadata": {},
     "output_type": "display_data"
    },
    {
     "name": "stdout",
     "output_type": "stream",
     "text": [
      "0.09082590911998054 0.9329035339063992\n",
      "3907 4188 val\n"
     ]
    },
    {
     "data": {
      "application/vnd.jupyter.widget-view+json": {
       "model_id": "",
       "version_major": 2,
       "version_minor": 0
      },
      "text/plain": [
       "train iter::   0%|          | 0/4187 [00:00<?, ?it/s]"
      ]
     },
     "metadata": {},
     "output_type": "display_data"
    },
    {
     "name": "stdout",
     "output_type": "stream",
     "text": [
      "0.057016634885963056 0.9493670886075949\n",
      "15900 16748 train\n"
     ]
    },
    {
     "data": {
      "application/vnd.jupyter.widget-view+json": {
       "model_id": "",
       "version_major": 2,
       "version_minor": 0
      },
      "text/plain": [
       "val iter::   0%|          | 0/1047 [00:00<?, ?it/s]"
      ]
     },
     "metadata": {},
     "output_type": "display_data"
    },
    {
     "name": "stdout",
     "output_type": "stream",
     "text": [
      "0.09223202583303741 0.9290830945558739\n",
      "3891 4188 val\n"
     ]
    },
    {
     "data": {
      "application/vnd.jupyter.widget-view+json": {
       "model_id": "",
       "version_major": 2,
       "version_minor": 0
      },
      "text/plain": [
       "train iter::   0%|          | 0/4187 [00:00<?, ?it/s]"
      ]
     },
     "metadata": {},
     "output_type": "display_data"
    },
    {
     "name": "stdout",
     "output_type": "stream",
     "text": [
      "0.043270007131338946 0.9616073561022211\n",
      "16105 16748 train\n"
     ]
    },
    {
     "data": {
      "application/vnd.jupyter.widget-view+json": {
       "model_id": "",
       "version_major": 2,
       "version_minor": 0
      },
      "text/plain": [
       "val iter::   0%|          | 0/1047 [00:00<?, ?it/s]"
      ]
     },
     "metadata": {},
     "output_type": "display_data"
    },
    {
     "name": "stdout",
     "output_type": "stream",
     "text": [
      "0.10233836088576796 0.9333810888252149\n",
      "3909 4188 val\n"
     ]
    },
    {
     "data": {
      "application/vnd.jupyter.widget-view+json": {
       "model_id": "",
       "version_major": 2,
       "version_minor": 0
      },
      "text/plain": [
       "train iter::   0%|          | 0/4187 [00:00<?, ?it/s]"
      ]
     },
     "metadata": {},
     "output_type": "display_data"
    },
    {
     "name": "stdout",
     "output_type": "stream",
     "text": [
      "0.01597559882870462 0.9835204203486984\n",
      "16472 16748 train\n"
     ]
    },
    {
     "data": {
      "application/vnd.jupyter.widget-view+json": {
       "model_id": "",
       "version_major": 2,
       "version_minor": 0
      },
      "text/plain": [
       "val iter::   0%|          | 0/1047 [00:00<?, ?it/s]"
      ]
     },
     "metadata": {},
     "output_type": "display_data"
    },
    {
     "name": "stdout",
     "output_type": "stream",
     "text": [
      "0.08020239110349865 0.9534383954154728\n",
      "3993 4188 val\n"
     ]
    },
    {
     "data": {
      "application/vnd.jupyter.widget-view+json": {
       "model_id": "",
       "version_major": 2,
       "version_minor": 0
      },
      "text/plain": [
       "train iter::   0%|          | 0/4187 [00:00<?, ?it/s]"
      ]
     },
     "metadata": {},
     "output_type": "display_data"
    },
    {
     "name": "stdout",
     "output_type": "stream",
     "text": [
      "0.007586071923316707 0.9908645808454741\n",
      "16595 16748 train\n"
     ]
    },
    {
     "data": {
      "application/vnd.jupyter.widget-view+json": {
       "model_id": "",
       "version_major": 2,
       "version_minor": 0
      },
      "text/plain": [
       "val iter::   0%|          | 0/1047 [00:00<?, ?it/s]"
      ]
     },
     "metadata": {},
     "output_type": "display_data"
    },
    {
     "name": "stdout",
     "output_type": "stream",
     "text": [
      "0.08837313426006171 0.9541547277936963\n",
      "3996 4188 val\n"
     ]
    },
    {
     "data": {
      "application/vnd.jupyter.widget-view+json": {
       "model_id": "",
       "version_major": 2,
       "version_minor": 0
      },
      "text/plain": [
       "train iter::   0%|          | 0/4187 [00:00<?, ?it/s]"
      ]
     },
     "metadata": {},
     "output_type": "display_data"
    },
    {
     "name": "stdout",
     "output_type": "stream",
     "text": [
      "0.004235437277288978 0.9951038930021495\n",
      "16666 16748 train\n"
     ]
    },
    {
     "data": {
      "application/vnd.jupyter.widget-view+json": {
       "model_id": "",
       "version_major": 2,
       "version_minor": 0
      },
      "text/plain": [
       "val iter::   0%|          | 0/1047 [00:00<?, ?it/s]"
      ]
     },
     "metadata": {},
     "output_type": "display_data"
    },
    {
     "name": "stdout",
     "output_type": "stream",
     "text": [
      "0.10139799211355435 0.956064947468959\n",
      "4004 4188 val\n"
     ]
    },
    {
     "data": {
      "application/vnd.jupyter.widget-view+json": {
       "model_id": "",
       "version_major": 2,
       "version_minor": 0
      },
      "text/plain": [
       "train iter::   0%|          | 0/4187 [00:00<?, ?it/s]"
      ]
     },
     "metadata": {},
     "output_type": "display_data"
    },
    {
     "name": "stdout",
     "output_type": "stream",
     "text": [
      "0.003192492274788241 0.9957606878433246\n",
      "16677 16748 train\n"
     ]
    },
    {
     "data": {
      "application/vnd.jupyter.widget-view+json": {
       "model_id": "",
       "version_major": 2,
       "version_minor": 0
      },
      "text/plain": [
       "val iter::   0%|          | 0/1047 [00:00<?, ?it/s]"
      ]
     },
     "metadata": {},
     "output_type": "display_data"
    },
    {
     "name": "stdout",
     "output_type": "stream",
     "text": [
      "0.10583155934985995 0.9558261700095511\n",
      "4003 4188 val\n"
     ]
    },
    {
     "data": {
      "application/vnd.jupyter.widget-view+json": {
       "model_id": "",
       "version_major": 2,
       "version_minor": 0
      },
      "text/plain": [
       "train iter::   0%|          | 0/4187 [00:00<?, ?it/s]"
      ]
     },
     "metadata": {},
     "output_type": "display_data"
    },
    {
     "name": "stdout",
     "output_type": "stream",
     "text": [
      "0.0020559749111395786 0.9976116551229998\n",
      "16708 16748 train\n"
     ]
    },
    {
     "data": {
      "application/vnd.jupyter.widget-view+json": {
       "model_id": "",
       "version_major": 2,
       "version_minor": 0
      },
      "text/plain": [
       "val iter::   0%|          | 0/1047 [00:00<?, ?it/s]"
      ]
     },
     "metadata": {},
     "output_type": "display_data"
    },
    {
     "name": "stdout",
     "output_type": "stream",
     "text": [
      "0.11933080206725785 0.9539159503342884\n",
      "3995 4188 val\n"
     ]
    },
    {
     "data": {
      "application/vnd.jupyter.widget-view+json": {
       "model_id": "",
       "version_major": 2,
       "version_minor": 0
      },
      "text/plain": [
       "train iter::   0%|          | 0/4187 [00:00<?, ?it/s]"
      ]
     },
     "metadata": {},
     "output_type": "display_data"
    },
    {
     "name": "stdout",
     "output_type": "stream",
     "text": [
      "0.0017782927210875925 0.9979699068545498\n",
      "16714 16748 train\n"
     ]
    },
    {
     "data": {
      "application/vnd.jupyter.widget-view+json": {
       "model_id": "",
       "version_major": 2,
       "version_minor": 0
      },
      "text/plain": [
       "val iter::   0%|          | 0/1047 [00:00<?, ?it/s]"
      ]
     },
     "metadata": {},
     "output_type": "display_data"
    },
    {
     "name": "stdout",
     "output_type": "stream",
     "text": [
      "0.14005238390334693 0.9555873925501432\n",
      "4002 4188 val\n"
     ]
    },
    {
     "data": {
      "application/vnd.jupyter.widget-view+json": {
       "model_id": "",
       "version_major": 2,
       "version_minor": 0
      },
      "text/plain": [
       "train iter::   0%|          | 0/4187 [00:00<?, ?it/s]"
      ]
     },
     "metadata": {},
     "output_type": "display_data"
    },
    {
     "name": "stdout",
     "output_type": "stream",
     "text": [
      "0.0013519789049380802 0.9981490327203248\n",
      "16717 16748 train\n"
     ]
    },
    {
     "data": {
      "application/vnd.jupyter.widget-view+json": {
       "model_id": "",
       "version_major": 2,
       "version_minor": 0
      },
      "text/plain": [
       "val iter::   0%|          | 0/1047 [00:00<?, ?it/s]"
      ]
     },
     "metadata": {},
     "output_type": "display_data"
    },
    {
     "name": "stdout",
     "output_type": "stream",
     "text": [
      "0.15406455875178587 0.9551098376313276\n",
      "4000 4188 val\n"
     ]
    },
    {
     "data": {
      "application/vnd.jupyter.widget-view+json": {
       "model_id": "",
       "version_major": 2,
       "version_minor": 0
      },
      "text/plain": [
       "train iter::   0%|          | 0/4187 [00:00<?, ?it/s]"
      ]
     },
     "metadata": {},
     "output_type": "display_data"
    },
    {
     "name": "stdout",
     "output_type": "stream",
     "text": [
      "0.0012471599397468026 0.9985072844518749\n",
      "16723 16748 train\n"
     ]
    },
    {
     "data": {
      "application/vnd.jupyter.widget-view+json": {
       "model_id": "",
       "version_major": 2,
       "version_minor": 0
      },
      "text/plain": [
       "val iter::   0%|          | 0/1047 [00:00<?, ?it/s]"
      ]
     },
     "metadata": {},
     "output_type": "display_data"
    },
    {
     "name": "stdout",
     "output_type": "stream",
     "text": [
      "0.1505646425534542 0.9565425023877746\n",
      "4006 4188 val\n"
     ]
    },
    {
     "data": {
      "application/vnd.jupyter.widget-view+json": {
       "model_id": "",
       "version_major": 2,
       "version_minor": 0
      },
      "text/plain": [
       "train iter::   0%|          | 0/4187 [00:00<?, ?it/s]"
      ]
     },
     "metadata": {},
     "output_type": "display_data"
    },
    {
     "name": "stdout",
     "output_type": "stream",
     "text": [
      "0.0008225679716455128 0.9989849534272749\n",
      "16731 16748 train\n"
     ]
    },
    {
     "data": {
      "application/vnd.jupyter.widget-view+json": {
       "model_id": "",
       "version_major": 2,
       "version_minor": 0
      },
      "text/plain": [
       "val iter::   0%|          | 0/1047 [00:00<?, ?it/s]"
      ]
     },
     "metadata": {},
     "output_type": "display_data"
    },
    {
     "name": "stdout",
     "output_type": "stream",
     "text": [
      "0.1504212300181006 0.9567812798471824\n",
      "4007 4188 val\n",
      "Training complete in 287m 8s\n",
      "Best val Acc: 0.956781\n"
     ]
    }
   ],
   "source": [
    "model, losses = train_model(model, loss_fn, optimizer_ft, exp_lr_scheduler, num_epochs=16)"
   ]
  },
  {
   "cell_type": "markdown",
   "id": "3401ee04",
   "metadata": {},
   "source": [
    "## Предикт\n"
   ]
  },
  {
   "cell_type": "markdown",
   "id": "fb86de7e",
   "metadata": {},
   "source": [
    "Загружаем тестовые данные. shuffle ставим False, так как нам важен порядок."
   ]
  },
  {
   "cell_type": "code",
   "execution_count": 134,
   "id": "37698a84",
   "metadata": {},
   "outputs": [],
   "source": [
    "test_img=[]\n",
    "\n",
    "jpgs_test=list(map(lambda x: x.name,Path(r\"C:\\Users\\Stepan\\Desktop\\симпсоны\\testset\\Новая папка\").glob(\"*\")))\n",
    "jpgs_test=sorted(jpgs_test)\n",
    "for i in range(991):\n",
    "    test_img.append(open_img(fr\"C:\\Users\\Stepan\\Desktop\\симпсоны\\testset\\Новая папка\\img{i}.jpg\"))\n",
    "data_test=DataLoader(test_img, batch_size=4, shuffle=False)"
   ]
  },
  {
   "cell_type": "markdown",
   "id": "e9a1609b",
   "metadata": {},
   "source": [
    "Загружаем submission."
   ]
  },
  {
   "cell_type": "code",
   "execution_count": 61,
   "id": "1a6d06eb",
   "metadata": {},
   "outputs": [
    {
     "data": {
      "text/html": [
       "<div>\n",
       "<style scoped>\n",
       "    .dataframe tbody tr th:only-of-type {\n",
       "        vertical-align: middle;\n",
       "    }\n",
       "\n",
       "    .dataframe tbody tr th {\n",
       "        vertical-align: top;\n",
       "    }\n",
       "\n",
       "    .dataframe thead th {\n",
       "        text-align: right;\n",
       "    }\n",
       "</style>\n",
       "<table border=\"1\" class=\"dataframe\">\n",
       "  <thead>\n",
       "    <tr style=\"text-align: right;\">\n",
       "      <th></th>\n",
       "      <th>Id</th>\n",
       "      <th>Expected</th>\n",
       "    </tr>\n",
       "  </thead>\n",
       "  <tbody>\n",
       "    <tr>\n",
       "      <th>0</th>\n",
       "      <td>img0.jpg</td>\n",
       "      <td>bart_simpson</td>\n",
       "    </tr>\n",
       "    <tr>\n",
       "      <th>1</th>\n",
       "      <td>img1.jpg</td>\n",
       "      <td>bart_simpson</td>\n",
       "    </tr>\n",
       "    <tr>\n",
       "      <th>2</th>\n",
       "      <td>img2.jpg</td>\n",
       "      <td>bart_simpson</td>\n",
       "    </tr>\n",
       "    <tr>\n",
       "      <th>3</th>\n",
       "      <td>img3.jpg</td>\n",
       "      <td>bart_simpson</td>\n",
       "    </tr>\n",
       "    <tr>\n",
       "      <th>4</th>\n",
       "      <td>img4.jpg</td>\n",
       "      <td>bart_simpson</td>\n",
       "    </tr>\n",
       "    <tr>\n",
       "      <th>...</th>\n",
       "      <td>...</td>\n",
       "      <td>...</td>\n",
       "    </tr>\n",
       "    <tr>\n",
       "      <th>986</th>\n",
       "      <td>img986.jpg</td>\n",
       "      <td>bart_simpson</td>\n",
       "    </tr>\n",
       "    <tr>\n",
       "      <th>987</th>\n",
       "      <td>img987.jpg</td>\n",
       "      <td>bart_simpson</td>\n",
       "    </tr>\n",
       "    <tr>\n",
       "      <th>988</th>\n",
       "      <td>img988.jpg</td>\n",
       "      <td>bart_simpson</td>\n",
       "    </tr>\n",
       "    <tr>\n",
       "      <th>989</th>\n",
       "      <td>img989.jpg</td>\n",
       "      <td>bart_simpson</td>\n",
       "    </tr>\n",
       "    <tr>\n",
       "      <th>990</th>\n",
       "      <td>img990.jpg</td>\n",
       "      <td>bart_simpson</td>\n",
       "    </tr>\n",
       "  </tbody>\n",
       "</table>\n",
       "<p>991 rows × 2 columns</p>\n",
       "</div>"
      ],
      "text/plain": [
       "             Id      Expected\n",
       "0      img0.jpg  bart_simpson\n",
       "1      img1.jpg  bart_simpson\n",
       "2      img2.jpg  bart_simpson\n",
       "3      img3.jpg  bart_simpson\n",
       "4      img4.jpg  bart_simpson\n",
       "..          ...           ...\n",
       "986  img986.jpg  bart_simpson\n",
       "987  img987.jpg  bart_simpson\n",
       "988  img988.jpg  bart_simpson\n",
       "989  img989.jpg  bart_simpson\n",
       "990  img990.jpg  bart_simpson\n",
       "\n",
       "[991 rows x 2 columns]"
      ]
     },
     "execution_count": 61,
     "metadata": {},
     "output_type": "execute_result"
    }
   ],
   "source": [
    "sub=pd.read_csv(r\"C:\\Users\\Stepan\\Desktop\\симпсоны\\sample_submission.csv\")\n",
    "sub"
   ]
  },
  {
   "cell_type": "markdown",
   "id": "0ae3143e",
   "metadata": {},
   "source": [
    "Создаем функцию предсказывания номера класса, по тензору картинки."
   ]
  },
  {
   "cell_type": "code",
   "execution_count": 135,
   "id": "4236ebd0",
   "metadata": {},
   "outputs": [],
   "source": [
    "def predict(model, test_loader):\n",
    "    with torch.no_grad():\n",
    "        logits = []\n",
    "        for inputs in test_loader:\n",
    "            model.eval()\n",
    "            outputs = model(inputs.cuda())\n",
    "            logits.append(outputs.to('cpu'))\n",
    "            \n",
    "    probs = nn.functional.softmax(torch.cat(logits), dim=-1).numpy()\n",
    "    return probs\n",
    "probs = predict(model, data_test)\n",
    "preds = np.argmax(probs, axis=1)\n",
    "    \n"
   ]
  },
  {
   "cell_type": "code",
   "execution_count": 136,
   "id": "1e04f620",
   "metadata": {},
   "outputs": [
    {
     "data": {
      "text/plain": [
       "array([29,  4, 24, 29, 20, 32, 17,  6, 32,  9, 28, 28, 15,  0, 29,  6, 24,\n",
       "        9, 15, 25, 22, 32, 27,  7,  7,  2,  0, 11, 15, 27, 17,  9,  6, 22,\n",
       "       11, 37,  7, 27, 27, 27, 27, 29,  9, 24, 11, 11, 17, 32, 24, 25, 20,\n",
       "        9, 25, 17, 25, 37, 29, 20,  6,  4,  4,  7,  7,  0, 11,  0, 32, 25,\n",
       "       24,  4,  0, 20, 16, 16,  0, 17, 28, 11,  6, 24, 25, 32,  4,  4,  7,\n",
       "       22, 20, 20,  7, 37, 29, 28, 32,  4, 20,  7, 32, 17,  6,  7,  7,  2,\n",
       "       16, 11,  7, 20, 16, 18, 22, 16, 27,  9,  0, 11, 16, 20, 22, 29,  9,\n",
       "       24,  2, 17, 17, 28, 11,  2,  7,  2, 28, 22, 15, 37, 20,  6,  7, 16,\n",
       "        0, 25, 18,  0,  9,  7, 29, 24,  6,  2, 24,  4, 11, 11, 28,  7, 15,\n",
       "        6, 22,  2, 18, 18,  9, 16, 37, 28, 28,  9,  6, 11,  4, 16, 28, 17,\n",
       "        7, 24, 28, 17, 37, 28,  7, 29,  0, 17, 17, 20, 17, 24, 20, 27, 29,\n",
       "       22,  4,  7,  7, 16, 22, 20,  2,  6, 22,  2, 22,  2, 11, 15, 15,  4,\n",
       "       32, 11, 25, 27, 18, 27, 15, 18, 20, 37,  7,  2, 24,  6, 24, 16, 15,\n",
       "       20, 25,  2, 24,  6,  6,  4, 16, 20, 27, 37, 20, 11, 17, 16, 15,  6,\n",
       "       18, 29, 29, 24, 15, 29, 22,  9, 15,  6, 18, 22, 29, 24,  4,  2, 15,\n",
       "       18, 25, 17,  0, 20,  7, 15, 15, 17, 18, 18, 16,  6, 37,  7, 16,  2,\n",
       "       29,  4,  6, 24, 24,  7,  4,  0, 29,  0, 22,  7, 18, 28, 27, 22, 22,\n",
       "       16,  6,  9,  2,  4, 11, 32, 18,  9, 27, 17, 25, 22,  4, 17, 11, 29,\n",
       "       22,  2, 37, 15, 11, 20, 16, 25,  2, 27,  2, 11, 17,  9, 29,  6,  4,\n",
       "       29, 29, 27, 27,  6, 11, 28,  2, 25, 27, 27,  9, 32, 22, 17, 28, 32,\n",
       "       22,  4, 20, 16, 24,  9, 18,  7,  6, 37, 32, 15, 17, 15, 15, 32, 15,\n",
       "       11,  6, 17, 29, 18, 28,  7, 37, 20, 18, 37, 37, 15, 18, 29, 18, 18,\n",
       "       16,  0, 29, 28, 16,  4, 32, 37, 20, 32, 37,  4, 20,  4, 22, 32, 20,\n",
       "        2, 32,  0, 18, 25, 18, 11, 24,  4,  0,  7, 17, 25, 24, 32, 11,  9,\n",
       "        9, 16, 32, 16, 17, 29, 25, 37, 24, 18,  4, 18, 32,  4, 25, 18, 11,\n",
       "        0, 22, 24, 22, 16, 15, 17, 17, 25, 20, 28, 20, 32, 17, 18, 37, 22,\n",
       "        9,  2,  7, 20, 25,  9, 24, 37, 37,  0, 11,  9, 27, 28, 27, 28, 24,\n",
       "       28, 11, 32, 29, 32, 11, 18, 25, 16, 37, 32, 32, 15, 15, 37, 25,  4,\n",
       "       27, 20,  6,  2, 25,  6,  9,  0, 22, 32,  6, 17, 15,  0, 20,  2, 20,\n",
       "       32, 16, 29,  9, 25,  6,  9,  0, 11, 28, 17,  4, 20, 18, 15,  2,  9,\n",
       "        4, 22,  6,  4,  7, 20,  1, 17, 17, 25, 16, 11, 20, 32,  4,  0, 25,\n",
       "        7,  2,  6, 28,  9, 15,  4,  0, 18, 28,  7, 18, 27, 20, 15, 29,  0,\n",
       "       32, 29, 16, 17, 15, 22, 28, 18, 25, 17,  2, 24,  7,  4, 22, 25, 24,\n",
       "       17, 16, 27,  2, 24, 37, 24, 32, 24,  2, 29,  0, 28, 27,  0, 16,  0,\n",
       "       27,  9, 17,  7, 15, 20, 18,  2,  9,  2,  0, 29, 27,  7, 28, 32, 16,\n",
       "       28,  6,  9, 17,  4,  7,  2, 27, 15, 32,  9,  0, 15,  2,  4,  7, 15,\n",
       "       22,  0, 24, 20,  6, 29, 28, 37, 17,  4, 22, 28, 24, 24, 29,  0, 28,\n",
       "       18,  4, 24, 18,  0, 28, 37, 15, 15, 20, 15, 28, 29, 27,  7,  2, 37,\n",
       "        7, 22, 17, 22, 37, 18, 18,  6, 16, 32, 28, 20, 18,  6, 29, 11,  9,\n",
       "        7, 15, 11, 37, 27,  9, 27,  6, 16, 25, 15, 29,  6, 27, 29, 28, 29,\n",
       "       16,  2, 15, 37, 15, 29, 18, 16, 27,  4, 16, 29,  6, 25, 25, 32, 16,\n",
       "       17, 25,  4,  0, 16,  2,  9, 24, 27, 16, 25,  2, 22, 27, 18, 18, 25,\n",
       "        6, 11, 24, 27,  2, 32, 18, 11,  8, 15,  7, 17, 18,  0,  6,  4,  2,\n",
       "        2, 37, 11,  6,  9, 37,  9,  7,  4,  0, 24, 11, 11,  0, 18, 20, 25,\n",
       "       24,  2, 24, 37, 37, 32,  7,  6,  9,  7, 17, 22, 32, 16, 27, 14,  7,\n",
       "       28,  4,  4, 22, 27,  0,  4,  9,  0, 20, 25, 29, 16, 32, 16, 25, 32,\n",
       "        4, 18,  7, 25, 28, 32, 16, 11,  9,  6,  7, 15, 37, 28, 29, 27, 32,\n",
       "       37,  0, 15,  7, 25, 11, 27, 25, 27, 32, 11, 20,  9,  2, 11, 16, 32,\n",
       "       22,  2, 15, 25, 11, 27, 22, 28, 15, 12,  2,  9, 15, 37,  0,  7, 29,\n",
       "        6, 11,  0, 11,  4, 27,  6, 20,  0, 28, 16, 17,  8,  9, 22,  6,  7,\n",
       "       37, 18, 20, 32,  0, 16, 24, 22, 37, 22, 24,  6, 22, 18, 11, 17, 22,\n",
       "       29, 17, 20, 29, 22, 25,  9, 25, 15,  2, 18, 37,  0, 20, 20, 16, 15,\n",
       "       22,  4, 32, 15,  6, 32, 28,  4, 17,  4, 37,  0,  0, 25, 27, 28, 22,\n",
       "        2, 27,  6, 29,  9, 32, 28, 27, 37, 27,  7, 24, 20,  4, 22, 24,  2,\n",
       "       17, 37, 27, 18,  6,  9, 20, 17,  9, 24, 16, 37,  9, 28, 11, 11, 27,\n",
       "       16, 25, 11, 11, 25, 16, 18, 32, 18, 11, 15, 28, 37,  9,  9, 18, 15,\n",
       "       22, 37, 28, 24, 15, 27,  2, 29, 25, 22, 17,  2, 22, 27, 29, 25, 32,\n",
       "       25, 28, 29, 15, 24, 29, 37,  4, 24, 15, 28, 17, 20, 32, 20,  2, 22,\n",
       "       37, 29, 28,  6, 17], dtype=int64)"
      ]
     },
     "execution_count": 136,
     "metadata": {},
     "output_type": "execute_result"
    }
   ],
   "source": [
    "preds"
   ]
  },
  {
   "cell_type": "markdown",
   "id": "ce6c52a8",
   "metadata": {},
   "source": [
    "Преобразуем полученные номера классов в имена героев Сипмсонов."
   ]
  },
  {
   "cell_type": "code",
   "execution_count": 139,
   "id": "9c2d45b1",
   "metadata": {},
   "outputs": [],
   "source": [
    "d=dict()\n",
    "for i in range(42):\n",
    "    d[i]=classes[i]\n",
    "itog=list(map(lambda x: d[x], preds))"
   ]
  },
  {
   "cell_type": "markdown",
   "id": "d20af8fb",
   "metadata": {},
   "source": [
    "Сохраняем результат."
   ]
  },
  {
   "cell_type": "code",
   "execution_count": 144,
   "id": "63efdb58",
   "metadata": {},
   "outputs": [
    {
     "data": {
      "text/html": [
       "<div>\n",
       "<style scoped>\n",
       "    .dataframe tbody tr th:only-of-type {\n",
       "        vertical-align: middle;\n",
       "    }\n",
       "\n",
       "    .dataframe tbody tr th {\n",
       "        vertical-align: top;\n",
       "    }\n",
       "\n",
       "    .dataframe thead th {\n",
       "        text-align: right;\n",
       "    }\n",
       "</style>\n",
       "<table border=\"1\" class=\"dataframe\">\n",
       "  <thead>\n",
       "    <tr style=\"text-align: right;\">\n",
       "      <th></th>\n",
       "      <th>Expected</th>\n",
       "    </tr>\n",
       "    <tr>\n",
       "      <th>Id</th>\n",
       "      <th></th>\n",
       "    </tr>\n",
       "  </thead>\n",
       "  <tbody>\n",
       "    <tr>\n",
       "      <th>img0.jpg</th>\n",
       "      <td>nelson_muntz</td>\n",
       "    </tr>\n",
       "    <tr>\n",
       "      <th>img1.jpg</th>\n",
       "      <td>bart_simpson</td>\n",
       "    </tr>\n",
       "    <tr>\n",
       "      <th>img2.jpg</th>\n",
       "      <td>mayor_quimby</td>\n",
       "    </tr>\n",
       "    <tr>\n",
       "      <th>img3.jpg</th>\n",
       "      <td>nelson_muntz</td>\n",
       "    </tr>\n",
       "    <tr>\n",
       "      <th>img4.jpg</th>\n",
       "      <td>lisa_simpson</td>\n",
       "    </tr>\n",
       "    <tr>\n",
       "      <th>...</th>\n",
       "      <td>...</td>\n",
       "    </tr>\n",
       "    <tr>\n",
       "      <th>img986.jpg</th>\n",
       "      <td>sideshow_bob</td>\n",
       "    </tr>\n",
       "    <tr>\n",
       "      <th>img987.jpg</th>\n",
       "      <td>nelson_muntz</td>\n",
       "    </tr>\n",
       "    <tr>\n",
       "      <th>img988.jpg</th>\n",
       "      <td>ned_flanders</td>\n",
       "    </tr>\n",
       "    <tr>\n",
       "      <th>img989.jpg</th>\n",
       "      <td>charles_montgomery_burns</td>\n",
       "    </tr>\n",
       "    <tr>\n",
       "      <th>img990.jpg</th>\n",
       "      <td>krusty_the_clown</td>\n",
       "    </tr>\n",
       "  </tbody>\n",
       "</table>\n",
       "<p>991 rows × 1 columns</p>\n",
       "</div>"
      ],
      "text/plain": [
       "                            Expected\n",
       "Id                                  \n",
       "img0.jpg                nelson_muntz\n",
       "img1.jpg                bart_simpson\n",
       "img2.jpg                mayor_quimby\n",
       "img3.jpg                nelson_muntz\n",
       "img4.jpg                lisa_simpson\n",
       "...                              ...\n",
       "img986.jpg              sideshow_bob\n",
       "img987.jpg              nelson_muntz\n",
       "img988.jpg              ned_flanders\n",
       "img989.jpg  charles_montgomery_burns\n",
       "img990.jpg          krusty_the_clown\n",
       "\n",
       "[991 rows x 1 columns]"
      ]
     },
     "execution_count": 144,
     "metadata": {},
     "output_type": "execute_result"
    }
   ],
   "source": [
    "sub['Expected']=itog\n",
    "sub.index=sub['Id']\n",
    "sub3=sub.drop('Id', axis=1)\n",
    "sub3.to_csv(r\"C:\\Users\\Stepan\\Desktop\\симпсоны\\5.csv\")\n",
    "sub3"
   ]
  }
 ],
 "metadata": {
  "kernelspec": {
   "display_name": "Python 3 (ipykernel)",
   "language": "python",
   "name": "python3"
  },
  "language_info": {
   "codemirror_mode": {
    "name": "ipython",
    "version": 3
   },
   "file_extension": ".py",
   "mimetype": "text/x-python",
   "name": "python",
   "nbconvert_exporter": "python",
   "pygments_lexer": "ipython3",
   "version": "3.9.12"
  }
 },
 "nbformat": 4,
 "nbformat_minor": 5
}
